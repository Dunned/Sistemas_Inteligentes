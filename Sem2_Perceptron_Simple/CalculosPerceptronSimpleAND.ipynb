{
 "cells": [
  {
   "cell_type": "markdown",
   "metadata": {},
   "source": [
    "# PERCEPTRON SIMPLE - AND"
   ]
  },
  {
   "cell_type": "markdown",
   "metadata": {
    "id": "eIPjslM65H_s"
   },
   "source": [
    "Alumno: Eduardo Jauregui\n"
   ]
  },
  {
   "cell_type": "code",
   "execution_count": 92,
   "metadata": {
    "id": "843WvM6qagjV"
   },
   "outputs": [],
   "source": [
    "def fsigno(x):\n",
    "  if x>0:\n",
    "    return 1\n",
    "  else:\n",
    "    return -1"
   ]
  },
  {
   "cell_type": "code",
   "execution_count": 93,
   "metadata": {
    "id": "bsKxIBewch8N"
   },
   "outputs": [],
   "source": [
    "n = 0.5 #tasa de aprendizaje"
   ]
  },
  {
   "cell_type": "code",
   "execution_count": 95,
   "metadata": {
    "colab": {
     "base_uri": "https://localhost:8080/",
     "height": 0
    },
    "id": "G34VuXJ8VI5N",
    "outputId": "65525043-525f-4fdd-b340-55cb04165477"
   },
   "outputs": [
    {
     "name": "stdout",
     "output_type": "stream",
     "text": [
      "w1 =  0.4975365687586023\n",
      "w2 =  0.2661737230725406\n",
      "sesgo =  0.6374111614436909\n"
     ]
    }
   ],
   "source": [
    "import random\n",
    "random.seed(50)\n",
    "w1 = random.random()\n",
    "w2 = random.random()\n",
    "s  = random.random() #sesgo: peso del bias\n",
    "print(\"w1 = \", w1)\n",
    "print(\"w2 = \",w2)\n",
    "print(\"sesgo = \",s)"
   ]
  },
  {
   "cell_type": "code",
   "execution_count": 96,
   "metadata": {
    "colab": {
     "base_uri": "https://localhost:8080/",
     "height": 0
    },
    "id": "P9xelOL6WaNu",
    "outputId": "bd89793b-8f1b-4e93-dfc4-722e4b9f9a9f"
   },
   "outputs": [
    {
     "name": "stdout",
     "output_type": "stream",
     "text": [
      "1.401121453274834\n",
      "y = 1\n"
     ]
    }
   ],
   "source": [
    "x1 = 1\n",
    "x2 = 1\n",
    "z = 1\n",
    "print(x1*w1 + x2*w2 + 1*s)\n",
    "y = fsigno(x1*w1 + x2*w2 + 1*s)\n",
    "print(\"y =\", y)"
   ]
  },
  {
   "cell_type": "code",
   "execution_count": 97,
   "metadata": {
    "colab": {
     "base_uri": "https://localhost:8080/",
     "height": 0
    },
    "id": "piY2gmBWdGEt",
    "outputId": "c9c8a7b7-62de-4bf4-85ae-15d294623c6e"
   },
   "outputs": [
    {
     "name": "stdout",
     "output_type": "stream",
     "text": [
      "w1 =  0.4975365687586023\n",
      "w2 =  0.2661737230725406\n",
      "sesgo =  0.6374111614436909\n"
     ]
    }
   ],
   "source": [
    "w1 = w1 + n*(z-y)*x1\n",
    "w2 = w2 + n*(z-y)*x2\n",
    "s = s + n*(z-y)*1\n",
    "print(\"w1 = \", w1)\n",
    "print(\"w2 = \",w2)\n",
    "print(\"sesgo = \",s)"
   ]
  },
  {
   "cell_type": "code",
   "execution_count": 98,
   "metadata": {
    "colab": {
     "base_uri": "https://localhost:8080/",
     "height": 0
    },
    "id": "qdjByzwjfG5A",
    "outputId": "5cd423c3-12cf-4058-cba9-412d960ea8b9"
   },
   "outputs": [
    {
     "name": "stdout",
     "output_type": "stream",
     "text": [
      "0.8687740071297526\n",
      "y = 1\n"
     ]
    }
   ],
   "source": [
    "x1 = 1\n",
    "x2 = -1\n",
    "z = -1\n",
    "print(x1*w1 + x2*w2 + 1*s)\n",
    "y = fsigno(x1*w1 + x2*w2 + 1*s)\n",
    "print(\"y =\", y)"
   ]
  },
  {
   "cell_type": "code",
   "execution_count": 99,
   "metadata": {
    "colab": {
     "base_uri": "https://localhost:8080/",
     "height": 0
    },
    "id": "GHoZEB8Wg_7A",
    "outputId": "5edd7b93-d79a-44d3-fde8-a3f0ea53bc6f"
   },
   "outputs": [
    {
     "name": "stdout",
     "output_type": "stream",
     "text": [
      "w1 =  -0.5024634312413977\n",
      "w2 =  1.2661737230725407\n",
      "sesgo =  -0.3625888385563091\n"
     ]
    }
   ],
   "source": [
    "w1 = w1 + n*(z-y)*x1\n",
    "w2 = w2 + n*(z-y)*x2\n",
    "s = s + n*(z-y)*1\n",
    "print(\"w1 = \", w1)\n",
    "print(\"w2 = \",w2)\n",
    "print(\"sesgo = \",s)"
   ]
  },
  {
   "cell_type": "code",
   "execution_count": 100,
   "metadata": {
    "colab": {
     "base_uri": "https://localhost:8080/",
     "height": 0
    },
    "id": "jngYLodJj-mv",
    "outputId": "16b8a2f6-2bde-415c-acaa-f500f14e6673"
   },
   "outputs": [
    {
     "name": "stdout",
     "output_type": "stream",
     "text": [
      "1.4060483157576296\n",
      "y = 1\n"
     ]
    }
   ],
   "source": [
    "x1 = - 1\n",
    "x2 = 1\n",
    "z = -1\n",
    "print(x1*w1 + x2*w2 + 1*s)\n",
    "y = fsigno(x1*w1 + x2*w2 + 1*s)\n",
    "print(\"y =\", y)"
   ]
  },
  {
   "cell_type": "code",
   "execution_count": 101,
   "metadata": {
    "colab": {
     "base_uri": "https://localhost:8080/",
     "height": 0
    },
    "id": "Yoh-82CrkdKw",
    "outputId": "11a2f1d9-2bfa-4343-ee0a-cfa4e54de38f"
   },
   "outputs": [
    {
     "name": "stdout",
     "output_type": "stream",
     "text": [
      "w1 =  0.4975365687586023\n",
      "w2 =  0.2661737230725407\n",
      "sesgo =  -1.362588838556309\n"
     ]
    }
   ],
   "source": [
    "w1 = w1 + n*(z-y)*x1\n",
    "w2 = w2 + n*(z-y)*x2\n",
    "s = s + n*(z-y)*1\n",
    "print(\"w1 = \", w1)\n",
    "print(\"w2 = \",w2)\n",
    "print(\"sesgo = \",s)"
   ]
  },
  {
   "cell_type": "code",
   "execution_count": 102,
   "metadata": {
    "colab": {
     "base_uri": "https://localhost:8080/",
     "height": 0
    },
    "id": "IJhU53temB22",
    "outputId": "7ad6896d-ce53-41e0-968c-bf7787d4fd95"
   },
   "outputs": [
    {
     "name": "stdout",
     "output_type": "stream",
     "text": [
      "-2.126299130387452\n",
      "y = -1\n"
     ]
    }
   ],
   "source": [
    "x1 = - 1\n",
    "x2 = - 1\n",
    "z = -1\n",
    "print(x1*w1 + x2*w2 + 1*s)\n",
    "y = fsigno(x1*w1 + x2*w2 + 1*s)\n",
    "print(\"y =\", y)"
   ]
  },
  {
   "cell_type": "code",
   "execution_count": 103,
   "metadata": {
    "colab": {
     "base_uri": "https://localhost:8080/",
     "height": 0
    },
    "id": "jH07_kRMtOBC",
    "outputId": "446705d9-a0a9-4849-e419-c92cddd15970"
   },
   "outputs": [
    {
     "name": "stdout",
     "output_type": "stream",
     "text": [
      "w1 =  0.4975365687586023\n",
      "w2 =  0.2661737230725407\n",
      "sesgo =  -1.362588838556309\n"
     ]
    }
   ],
   "source": [
    "w1 = w1 + n*(z-y)*x1\n",
    "w2 = w2 + n*(z-y)*x2\n",
    "s = s + n*(z-y)*1\n",
    "print(\"w1 = \", w1)\n",
    "print(\"w2 = \",w2)\n",
    "print(\"sesgo = \",s)"
   ]
  },
  {
   "cell_type": "markdown",
   "metadata": {
    "id": "df3Pf6-Mu6tG"
   },
   "source": [
    "#Nueva Época (Época 2)"
   ]
  },
  {
   "cell_type": "code",
   "execution_count": 104,
   "metadata": {
    "colab": {
     "base_uri": "https://localhost:8080/",
     "height": 0
    },
    "id": "2KImHr3BtTyy",
    "outputId": "63e65334-736f-415e-9402-d8e34c44e064"
   },
   "outputs": [
    {
     "name": "stdout",
     "output_type": "stream",
     "text": [
      "-0.5988785467251659\n",
      "y = -1\n"
     ]
    }
   ],
   "source": [
    "x1 = 1\n",
    "x2 = 1\n",
    "z = 1\n",
    "print(x1*w1 + x2*w2 + 1*s)\n",
    "y = fsigno(x1*w1 + x2*w2 + 1*s)\n",
    "print(\"y =\", y)"
   ]
  },
  {
   "cell_type": "code",
   "execution_count": 105,
   "metadata": {
    "colab": {
     "base_uri": "https://localhost:8080/",
     "height": 0
    },
    "id": "XGJWb0bVt4ep",
    "outputId": "749e6fc8-dfb0-49d4-9eb6-e15243f1a64d"
   },
   "outputs": [
    {
     "name": "stdout",
     "output_type": "stream",
     "text": [
      "w1 =  1.4975365687586022\n",
      "w2 =  1.2661737230725407\n",
      "sesgo =  -0.36258883855630897\n"
     ]
    }
   ],
   "source": [
    "w1 = w1 + n*(z-y)*x1\n",
    "w2 = w2 + n*(z-y)*x2\n",
    "s = s + n*(z-y)*1\n",
    "print(\"w1 = \", w1)\n",
    "print(\"w2 = \",w2)\n",
    "print(\"sesgo = \",s)"
   ]
  },
  {
   "cell_type": "code",
   "execution_count": 106,
   "metadata": {
    "colab": {
     "base_uri": "https://localhost:8080/",
     "height": 0
    },
    "id": "v2b6bqX0vGHV",
    "outputId": "005714fc-3f7c-4e79-a6d1-dd43a2c1d124"
   },
   "outputs": [
    {
     "name": "stdout",
     "output_type": "stream",
     "text": [
      "-0.1312259928702475\n",
      "y = -1\n"
     ]
    }
   ],
   "source": [
    "x1 = 1\n",
    "x2 = -1\n",
    "z = -1\n",
    "print(x1*w1 + x2*w2 + 1*s)\n",
    "y = fsigno(x1*w1 + x2*w2 + 1*s)\n",
    "print(\"y =\", y)"
   ]
  },
  {
   "cell_type": "code",
   "execution_count": 107,
   "metadata": {
    "colab": {
     "base_uri": "https://localhost:8080/",
     "height": 0
    },
    "id": "0Fczf8J0vRk9",
    "outputId": "063a7846-fc1f-4359-9c10-ae376ebdabda"
   },
   "outputs": [
    {
     "name": "stdout",
     "output_type": "stream",
     "text": [
      "w1 =  1.4975365687586022\n",
      "w2 =  1.2661737230725407\n",
      "sesgo =  -0.36258883855630897\n"
     ]
    }
   ],
   "source": [
    "w1 = w1 + n*(z-y)*x1\n",
    "w2 = w2 + n*(z-y)*x2\n",
    "s = s + n*(z-y)*1\n",
    "print(\"w1 = \", w1)\n",
    "print(\"w2 = \",w2)\n",
    "print(\"sesgo = \",s)"
   ]
  },
  {
   "cell_type": "code",
   "execution_count": 108,
   "metadata": {
    "colab": {
     "base_uri": "https://localhost:8080/",
     "height": 0
    },
    "id": "TI6ft180vXuS",
    "outputId": "b1a57eda-72ec-4011-8188-ec6874a1e71a"
   },
   "outputs": [
    {
     "name": "stdout",
     "output_type": "stream",
     "text": [
      "-0.5939516842423704\n",
      "y = -1\n"
     ]
    }
   ],
   "source": [
    "x1 = - 1\n",
    "x2 =  1\n",
    "z = -1\n",
    "print(x1*w1 + x2*w2 + 1*s)\n",
    "y = fsigno(x1*w1 + x2*w2 + 1*s)\n",
    "print(\"y =\", y)"
   ]
  },
  {
   "cell_type": "code",
   "execution_count": 109,
   "metadata": {
    "colab": {
     "base_uri": "https://localhost:8080/",
     "height": 0
    },
    "id": "IXYGAW3QvnV-",
    "outputId": "24878e19-96fc-4d4b-bf1e-09a5aca3ec9d"
   },
   "outputs": [
    {
     "name": "stdout",
     "output_type": "stream",
     "text": [
      "w1 =  1.4975365687586022\n",
      "w2 =  1.2661737230725407\n",
      "sesgo =  -0.36258883855630897\n"
     ]
    }
   ],
   "source": [
    "w1 = w1 + n*(z-y)*x1\n",
    "w2 = w2 + n*(z-y)*x2\n",
    "s = s + n*(z-y)*1\n",
    "print(\"w1 = \", w1)\n",
    "print(\"w2 = \",w2)\n",
    "print(\"sesgo = \",s)"
   ]
  },
  {
   "cell_type": "code",
   "execution_count": 110,
   "metadata": {
    "colab": {
     "base_uri": "https://localhost:8080/",
     "height": 0
    },
    "id": "y-FSKEW7vvae",
    "outputId": "fbf897a1-8b00-4f35-bb72-9e3e3a1f157d"
   },
   "outputs": [
    {
     "name": "stdout",
     "output_type": "stream",
     "text": [
      "-3.126299130387452\n",
      "y = -1\n"
     ]
    }
   ],
   "source": [
    "x1 = - 1\n",
    "x2 = - 1\n",
    "z = - 1\n",
    "print(x1*w1 + x2*w2 + 1*s)\n",
    "y = fsigno(x1*w1 + x2*w2 + 1*s)\n",
    "print(\"y =\", y)"
   ]
  },
  {
   "cell_type": "markdown",
   "metadata": {
    "id": "InVQlDECv_ea"
   },
   "source": [
    "Fin de la Época 2"
   ]
  },
  {
   "cell_type": "markdown",
   "metadata": {},
   "source": [
    "## Epoca 3"
   ]
  },
  {
   "cell_type": "code",
   "execution_count": 111,
   "metadata": {
    "colab": {
     "base_uri": "https://localhost:8080/",
     "height": 0
    },
    "id": "fQL0_c_hv-I3",
    "outputId": "b4bcebc9-f2e0-4a40-b0ac-470d2b17080d"
   },
   "outputs": [
    {
     "name": "stdout",
     "output_type": "stream",
     "text": [
      "2.401121453274834\n",
      "y = 1\n"
     ]
    }
   ],
   "source": [
    "x1 = 1\n",
    "x2 = 1\n",
    "z = 1\n",
    "print(x1*w1 + x2*w2 + 1*s)\n",
    "y = fsigno(x1*w1 + x2*w2 + 1*s)\n",
    "print(\"y =\", y)"
   ]
  },
  {
   "cell_type": "code",
   "execution_count": 112,
   "metadata": {
    "colab": {
     "base_uri": "https://localhost:8080/",
     "height": 0
    },
    "id": "4HTUeEvewgQv",
    "outputId": "2afcc815-0ac9-4525-ab69-66a5f18deb80"
   },
   "outputs": [
    {
     "name": "stdout",
     "output_type": "stream",
     "text": [
      "w1 =  1.4975365687586022\n",
      "w2 =  1.2661737230725407\n",
      "sesgo =  -0.36258883855630897\n"
     ]
    }
   ],
   "source": [
    "w1 = w1 + n*(z-y)*x1\n",
    "w2 = w2 + n*(z-y)*x2\n",
    "s = s + n*(z-y)*1\n",
    "print(\"w1 = \", w1)\n",
    "print(\"w2 = \",w2)\n",
    "print(\"sesgo = \",s)"
   ]
  },
  {
   "cell_type": "markdown",
   "metadata": {
    "id": "wYKSMWhhwk02"
   },
   "source": [
    "Ya no hay más cambios. No es necesario probar con el resto de entradas de la época porque ya han sido probados satisfactoriamente con los mismos pesos."
   ]
  },
  {
   "cell_type": "code",
   "execution_count": 113,
   "metadata": {
    "id": "_c_VJtyKxVCR"
   },
   "outputs": [],
   "source": [
    "def funcionAnd(x1 , x2):\n",
    "  y = fsigno (x1*1.4966624063011404 + x2*1.5804883338503495 + 1*(-0.49327369148451816))\n",
    "  if y == 1:\n",
    "    return \"V\"\n",
    "  else:\n",
    "    return \"F\""
   ]
  },
  {
   "cell_type": "code",
   "execution_count": 114,
   "metadata": {
    "colab": {
     "base_uri": "https://localhost:8080/",
     "height": 0
    },
    "id": "XHNB-Hz7yGE_",
    "outputId": "7ded50a8-5835-4ad4-af59-475c4fac43b2"
   },
   "outputs": [
    {
     "name": "stdout",
     "output_type": "stream",
     "text": [
      "V and V:  V\n",
      "V and F:  F\n",
      "F and V:  F\n",
      "F and F:  F\n"
     ]
    }
   ],
   "source": [
    "#Prueba\n",
    "print(\"V and V: \",funcionAnd(1,1))\n",
    "print(\"V and F: \",funcionAnd(1,-1))\n",
    "print(\"F and V: \",funcionAnd(-1,1))\n",
    "print(\"F and F: \",funcionAnd(-1,-1))"
   ]
  },
  {
   "cell_type": "code",
   "execution_count": 123,
   "metadata": {
    "colab": {
     "base_uri": "https://localhost:8080/",
     "height": 0
    },
    "id": "RnggU0b7zm5W",
    "outputId": "b4fe174a-44bb-4a8c-acbc-cab5c6148309"
   },
   "outputs": [
    {
     "name": "stdout",
     "output_type": "stream",
     "text": [
      "0.965242141552123\n",
      "0.011654693792141124\n",
      "0.7359916197968754\n"
     ]
    }
   ],
   "source": [
    "random.seed(15)\n",
    "print(random.random())\n",
    "print(random.random())\n",
    "print(random.random())"
   ]
  }
 ],
 "metadata": {
  "colab": {
   "name": "CalculosPerceptronSimpleAND.ipynb",
   "provenance": []
  },
  "kernelspec": {
   "display_name": "Python 3 (ipykernel)",
   "language": "python",
   "name": "python3"
  },
  "language_info": {
   "codemirror_mode": {
    "name": "ipython",
    "version": 3
   },
   "file_extension": ".py",
   "mimetype": "text/x-python",
   "name": "python",
   "nbconvert_exporter": "python",
   "pygments_lexer": "ipython3",
   "version": "3.9.12"
  }
 },
 "nbformat": 4,
 "nbformat_minor": 1
}
